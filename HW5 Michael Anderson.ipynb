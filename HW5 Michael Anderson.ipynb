{
 "cells": [
  {
   "cell_type": "markdown",
   "id": "bdb0ab51-2664-4df1-bd17-e34d257b55d6",
   "metadata": {},
   "source": [
    "# Homework 5\n",
    "\n",
    "Michael Anderson\n",
    "\n",
    "manderson113@student.gsu.edu\n",
    "\n",
    "002485269"
   ]
  },
  {
   "cell_type": "code",
   "execution_count": null,
   "id": "0f7e1331-74cd-4ac2-a2b8-7181aa789350",
   "metadata": {},
   "outputs": [],
   "source": [
    "import pandas as pd\n",
    "import numpy as np\n",
    "import pandas_profiling\n",
    "import matplotlib.pyplot as plt\n",
    "from sklearn import preprocessing\n",
    "import matplotlib.pyplot as plt\n",
    "%matplotlib inline"
   ]
  },
  {
   "cell_type": "code",
   "execution_count": null,
   "id": "521fb72a-bf1e-4e2f-813d-36eec045ebbf",
   "metadata": {},
   "outputs": [],
   "source": []
  }
 ],
 "metadata": {
  "kernelspec": {
   "display_name": "Python 3 (ipykernel)",
   "language": "python",
   "name": "python3"
  },
  "language_info": {
   "codemirror_mode": {
    "name": "ipython",
    "version": 3
   },
   "file_extension": ".py",
   "mimetype": "text/x-python",
   "name": "python",
   "nbconvert_exporter": "python",
   "pygments_lexer": "ipython3",
   "version": "3.8.10"
  }
 },
 "nbformat": 4,
 "nbformat_minor": 5
}
